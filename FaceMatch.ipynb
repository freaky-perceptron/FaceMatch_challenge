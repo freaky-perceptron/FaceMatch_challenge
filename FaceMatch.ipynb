{
  "nbformat": 4,
  "nbformat_minor": 0,
  "metadata": {
    "colab": {
      "name": "FaceMatch.ipynb",
      "provenance": []
    },
    "kernelspec": {
      "display_name": "Python 3",
      "name": "python3"
    },
    "language_info": {
      "name": "python"
    }
  },
  "cells": [
    {
      "cell_type": "markdown",
      "metadata": {
        "id": "tBD4TVA1-7JB"
      },
      "source": [
        "# Team : It's FaceTime \n",
        "\n",
        "\n",
        "\n",
        "## Patil Bhavesh Vasant | 18D170023\n",
        "## Anuj Agrawal | 180110012"
      ]
    },
    {
      "cell_type": "markdown",
      "metadata": {
        "id": "DPLULP-A_P9G"
      },
      "source": [
        "## Installing the requied libraries in google colab"
      ]
    },
    {
      "cell_type": "code",
      "metadata": {
        "colab": {
          "base_uri": "https://localhost:8080/"
        },
        "id": "CRi1MX2CMwpM",
        "outputId": "8e25a399-e7fd-406a-f6dc-13c98b75b3da"
      },
      "source": [
        "!pip install -U insightface \n",
        "!pip install mxnet-cu101\n",
        "!pip3 install onnxruntime"
      ],
      "execution_count": null,
      "outputs": [
        {
          "name": "stdout",
          "output_type": "stream",
          "text": [
            "Collecting insightface\n",
            "  Downloading insightface-0.5.tar.gz (431 kB)\n",
            "\u001b[?25l\r\u001b[K     |▊                               | 10 kB 26.6 MB/s eta 0:00:01\r\u001b[K     |█▌                              | 20 kB 23.5 MB/s eta 0:00:01\r\u001b[K     |██▎                             | 30 kB 18.4 MB/s eta 0:00:01\r\u001b[K     |███                             | 40 kB 16.0 MB/s eta 0:00:01\r\u001b[K     |███▉                            | 51 kB 7.4 MB/s eta 0:00:01\r\u001b[K     |████▋                           | 61 kB 8.6 MB/s eta 0:00:01\r\u001b[K     |█████▎                          | 71 kB 8.2 MB/s eta 0:00:01\r\u001b[K     |██████                          | 81 kB 9.1 MB/s eta 0:00:01\r\u001b[K     |██████▉                         | 92 kB 9.5 MB/s eta 0:00:01\r\u001b[K     |███████▋                        | 102 kB 7.3 MB/s eta 0:00:01\r\u001b[K     |████████▍                       | 112 kB 7.3 MB/s eta 0:00:01\r\u001b[K     |█████████▏                      | 122 kB 7.3 MB/s eta 0:00:01\r\u001b[K     |█████████▉                      | 133 kB 7.3 MB/s eta 0:00:01\r\u001b[K     |██████████▋                     | 143 kB 7.3 MB/s eta 0:00:01\r\u001b[K     |███████████▍                    | 153 kB 7.3 MB/s eta 0:00:01\r\u001b[K     |████████████▏                   | 163 kB 7.3 MB/s eta 0:00:01\r\u001b[K     |█████████████                   | 174 kB 7.3 MB/s eta 0:00:01\r\u001b[K     |█████████████▊                  | 184 kB 7.3 MB/s eta 0:00:01\r\u001b[K     |██████████████▍                 | 194 kB 7.3 MB/s eta 0:00:01\r\u001b[K     |███████████████▏                | 204 kB 7.3 MB/s eta 0:00:01\r\u001b[K     |████████████████                | 215 kB 7.3 MB/s eta 0:00:01\r\u001b[K     |████████████████▊               | 225 kB 7.3 MB/s eta 0:00:01\r\u001b[K     |█████████████████▌              | 235 kB 7.3 MB/s eta 0:00:01\r\u001b[K     |██████████████████▎             | 245 kB 7.3 MB/s eta 0:00:01\r\u001b[K     |███████████████████             | 256 kB 7.3 MB/s eta 0:00:01\r\u001b[K     |███████████████████▊            | 266 kB 7.3 MB/s eta 0:00:01\r\u001b[K     |████████████████████▌           | 276 kB 7.3 MB/s eta 0:00:01\r\u001b[K     |█████████████████████▎          | 286 kB 7.3 MB/s eta 0:00:01\r\u001b[K     |██████████████████████          | 296 kB 7.3 MB/s eta 0:00:01\r\u001b[K     |██████████████████████▉         | 307 kB 7.3 MB/s eta 0:00:01\r\u001b[K     |███████████████████████▋        | 317 kB 7.3 MB/s eta 0:00:01\r\u001b[K     |████████████████████████▎       | 327 kB 7.3 MB/s eta 0:00:01\r\u001b[K     |█████████████████████████       | 337 kB 7.3 MB/s eta 0:00:01\r\u001b[K     |█████████████████████████▉      | 348 kB 7.3 MB/s eta 0:00:01\r\u001b[K     |██████████████████████████▋     | 358 kB 7.3 MB/s eta 0:00:01\r\u001b[K     |███████████████████████████▍    | 368 kB 7.3 MB/s eta 0:00:01\r\u001b[K     |████████████████████████████▏   | 378 kB 7.3 MB/s eta 0:00:01\r\u001b[K     |████████████████████████████▉   | 389 kB 7.3 MB/s eta 0:00:01\r\u001b[K     |█████████████████████████████▋  | 399 kB 7.3 MB/s eta 0:00:01\r\u001b[K     |██████████████████████████████▍ | 409 kB 7.3 MB/s eta 0:00:01\r\u001b[K     |███████████████████████████████▏| 419 kB 7.3 MB/s eta 0:00:01\r\u001b[K     |████████████████████████████████| 430 kB 7.3 MB/s eta 0:00:01\r\u001b[K     |████████████████████████████████| 431 kB 7.3 MB/s \n",
            "\u001b[?25hRequirement already satisfied: numpy in /usr/local/lib/python3.7/dist-packages (from insightface) (1.19.5)\n",
            "Collecting onnx\n",
            "  Downloading onnx-1.10.1-cp37-cp37m-manylinux_2_12_x86_64.manylinux2010_x86_64.whl (12.3 MB)\n",
            "\u001b[K     |████████████████████████████████| 12.3 MB 184 kB/s \n",
            "\u001b[?25hRequirement already satisfied: tqdm in /usr/local/lib/python3.7/dist-packages (from insightface) (4.62.3)\n",
            "Requirement already satisfied: requests in /usr/local/lib/python3.7/dist-packages (from insightface) (2.23.0)\n",
            "Requirement already satisfied: matplotlib in /usr/local/lib/python3.7/dist-packages (from insightface) (3.2.2)\n",
            "Requirement already satisfied: Pillow in /usr/local/lib/python3.7/dist-packages (from insightface) (7.1.2)\n",
            "Requirement already satisfied: scipy in /usr/local/lib/python3.7/dist-packages (from insightface) (1.4.1)\n",
            "Requirement already satisfied: scikit-learn in /usr/local/lib/python3.7/dist-packages (from insightface) (0.22.2.post1)\n",
            "Requirement already satisfied: scikit-image in /usr/local/lib/python3.7/dist-packages (from insightface) (0.16.2)\n",
            "Requirement already satisfied: easydict in /usr/local/lib/python3.7/dist-packages (from insightface) (1.9)\n",
            "Requirement already satisfied: cython in /usr/local/lib/python3.7/dist-packages (from insightface) (0.29.24)\n",
            "Requirement already satisfied: albumentations in /usr/local/lib/python3.7/dist-packages (from insightface) (0.1.12)\n",
            "Requirement already satisfied: prettytable in /usr/local/lib/python3.7/dist-packages (from insightface) (2.2.1)\n",
            "Requirement already satisfied: opencv-python in /usr/local/lib/python3.7/dist-packages (from albumentations->insightface) (4.1.2.30)\n",
            "Collecting imgaug<0.2.7,>=0.2.5\n",
            "  Downloading imgaug-0.2.6.tar.gz (631 kB)\n",
            "\u001b[K     |████████████████████████████████| 631 kB 66.0 MB/s \n",
            "\u001b[?25hRequirement already satisfied: six in /usr/local/lib/python3.7/dist-packages (from imgaug<0.2.7,>=0.2.5->albumentations->insightface) (1.15.0)\n",
            "Requirement already satisfied: PyWavelets>=0.4.0 in /usr/local/lib/python3.7/dist-packages (from scikit-image->insightface) (1.1.1)\n",
            "Requirement already satisfied: networkx>=2.0 in /usr/local/lib/python3.7/dist-packages (from scikit-image->insightface) (2.6.3)\n",
            "Requirement already satisfied: imageio>=2.3.0 in /usr/local/lib/python3.7/dist-packages (from scikit-image->insightface) (2.4.1)\n",
            "Requirement already satisfied: pyparsing!=2.0.4,!=2.1.2,!=2.1.6,>=2.0.1 in /usr/local/lib/python3.7/dist-packages (from matplotlib->insightface) (2.4.7)\n",
            "Requirement already satisfied: kiwisolver>=1.0.1 in /usr/local/lib/python3.7/dist-packages (from matplotlib->insightface) (1.3.2)\n",
            "Requirement already satisfied: python-dateutil>=2.1 in /usr/local/lib/python3.7/dist-packages (from matplotlib->insightface) (2.8.2)\n",
            "Requirement already satisfied: cycler>=0.10 in /usr/local/lib/python3.7/dist-packages (from matplotlib->insightface) (0.10.0)\n",
            "Requirement already satisfied: protobuf in /usr/local/lib/python3.7/dist-packages (from onnx->insightface) (3.17.3)\n",
            "Requirement already satisfied: typing-extensions>=3.6.2.1 in /usr/local/lib/python3.7/dist-packages (from onnx->insightface) (3.7.4.3)\n",
            "Requirement already satisfied: wcwidth in /usr/local/lib/python3.7/dist-packages (from prettytable->insightface) (0.2.5)\n",
            "Requirement already satisfied: importlib-metadata in /usr/local/lib/python3.7/dist-packages (from prettytable->insightface) (4.8.1)\n",
            "Requirement already satisfied: zipp>=0.5 in /usr/local/lib/python3.7/dist-packages (from importlib-metadata->prettytable->insightface) (3.6.0)\n",
            "Requirement already satisfied: certifi>=2017.4.17 in /usr/local/lib/python3.7/dist-packages (from requests->insightface) (2021.5.30)\n",
            "Requirement already satisfied: chardet<4,>=3.0.2 in /usr/local/lib/python3.7/dist-packages (from requests->insightface) (3.0.4)\n",
            "Requirement already satisfied: urllib3!=1.25.0,!=1.25.1,<1.26,>=1.21.1 in /usr/local/lib/python3.7/dist-packages (from requests->insightface) (1.24.3)\n",
            "Requirement already satisfied: idna<3,>=2.5 in /usr/local/lib/python3.7/dist-packages (from requests->insightface) (2.10)\n",
            "Requirement already satisfied: joblib>=0.11 in /usr/local/lib/python3.7/dist-packages (from scikit-learn->insightface) (1.0.1)\n",
            "Building wheels for collected packages: insightface, imgaug\n",
            "  Building wheel for insightface (setup.py) ... \u001b[?25l\u001b[?25hdone\n",
            "  Created wheel for insightface: filename=insightface-0.5-cp37-cp37m-linux_x86_64.whl size=975562 sha256=354b5bb30ccb9bd796ab76291b511d693b5e826cb01ef723bdc619d61f963fed\n",
            "  Stored in directory: /root/.cache/pip/wheels/10/41/10/d7c3a6acc5896f7e5ebdeb0456579bc6e1dce43bf4920f23a4\n",
            "  Building wheel for imgaug (setup.py) ... \u001b[?25l\u001b[?25hdone\n",
            "  Created wheel for imgaug: filename=imgaug-0.2.6-py3-none-any.whl size=654020 sha256=f41d12f1f93489e0936c533a9c241440ff39d7d4e9711cc280dfbeee6496238e\n",
            "  Stored in directory: /root/.cache/pip/wheels/89/72/98/3ebfdba1069a9a8eaaa7ae7265cfd67d63ef0197aaee2e5f9c\n",
            "Successfully built insightface imgaug\n",
            "Installing collected packages: imgaug, onnx, insightface\n",
            "  Attempting uninstall: imgaug\n",
            "    Found existing installation: imgaug 0.2.9\n",
            "    Uninstalling imgaug-0.2.9:\n",
            "      Successfully uninstalled imgaug-0.2.9\n",
            "Successfully installed imgaug-0.2.6 insightface-0.5 onnx-1.10.1\n",
            "Collecting mxnet-cu101\n",
            "  Downloading mxnet_cu101-1.8.0.post0-py2.py3-none-manylinux2014_x86_64.whl (356.7 MB)\n",
            "\u001b[K     |████████████████████████████████| 356.7 MB 26 kB/s \n",
            "\u001b[?25hRequirement already satisfied: requests<3,>=2.20.0 in /usr/local/lib/python3.7/dist-packages (from mxnet-cu101) (2.23.0)\n",
            "Collecting graphviz<0.9.0,>=0.8.1\n",
            "  Downloading graphviz-0.8.4-py2.py3-none-any.whl (16 kB)\n",
            "Requirement already satisfied: numpy<2.0.0,>1.16.0 in /usr/local/lib/python3.7/dist-packages (from mxnet-cu101) (1.19.5)\n",
            "Requirement already satisfied: chardet<4,>=3.0.2 in /usr/local/lib/python3.7/dist-packages (from requests<3,>=2.20.0->mxnet-cu101) (3.0.4)\n",
            "Requirement already satisfied: urllib3!=1.25.0,!=1.25.1,<1.26,>=1.21.1 in /usr/local/lib/python3.7/dist-packages (from requests<3,>=2.20.0->mxnet-cu101) (1.24.3)\n",
            "Requirement already satisfied: certifi>=2017.4.17 in /usr/local/lib/python3.7/dist-packages (from requests<3,>=2.20.0->mxnet-cu101) (2021.5.30)\n",
            "Requirement already satisfied: idna<3,>=2.5 in /usr/local/lib/python3.7/dist-packages (from requests<3,>=2.20.0->mxnet-cu101) (2.10)\n",
            "Installing collected packages: graphviz, mxnet-cu101\n",
            "  Attempting uninstall: graphviz\n",
            "    Found existing installation: graphviz 0.10.1\n",
            "    Uninstalling graphviz-0.10.1:\n",
            "      Successfully uninstalled graphviz-0.10.1\n",
            "Successfully installed graphviz-0.8.4 mxnet-cu101-1.8.0.post0\n",
            "Collecting onnxruntime\n",
            "  Downloading onnxruntime-1.9.0-cp37-cp37m-manylinux_2_17_x86_64.manylinux2014_x86_64.whl (4.8 MB)\n",
            "\u001b[K     |████████████████████████████████| 4.8 MB 8.0 MB/s \n",
            "\u001b[?25hRequirement already satisfied: flatbuffers in /usr/local/lib/python3.7/dist-packages (from onnxruntime) (1.12)\n",
            "Requirement already satisfied: protobuf in /usr/local/lib/python3.7/dist-packages (from onnxruntime) (3.17.3)\n",
            "Requirement already satisfied: numpy>=1.16.6 in /usr/local/lib/python3.7/dist-packages (from onnxruntime) (1.19.5)\n",
            "Requirement already satisfied: six>=1.9 in /usr/local/lib/python3.7/dist-packages (from protobuf->onnxruntime) (1.15.0)\n",
            "Installing collected packages: onnxruntime\n",
            "Successfully installed onnxruntime-1.9.0\n"
          ]
        }
      ]
    },
    {
      "cell_type": "markdown",
      "metadata": {
        "id": "R0naQ5_h_VRV"
      },
      "source": [
        "## Mounting the google drive in order to fetch the data from drive"
      ]
    },
    {
      "cell_type": "code",
      "metadata": {
        "colab": {
          "base_uri": "https://localhost:8080/"
        },
        "id": "cci5Tn5QM7sD",
        "outputId": "3c5a2e38-5645-4778-bd34-bd87fe8677bb"
      },
      "source": [
        "from google.colab import drive\n",
        "drive.mount('/content/drive') "
      ],
      "execution_count": null,
      "outputs": [
        {
          "name": "stdout",
          "output_type": "stream",
          "text": [
            "Mounted at /content/drive\n"
          ]
        }
      ]
    },
    {
      "cell_type": "markdown",
      "metadata": {
        "id": "DmuEe5i1_e0H"
      },
      "source": [
        "## Shifting to the dataset path"
      ]
    },
    {
      "cell_type": "code",
      "metadata": {
        "colab": {
          "base_uri": "https://localhost:8080/"
        },
        "id": "4hNKyOQ4p2pW",
        "outputId": "5ee1db0d-2f8a-45bc-db8f-1afbd66da00b"
      },
      "source": [
        "%cd /content/drive/MyDrive/AI_hackthon/ES_FaceMatch_Dataset/"
      ],
      "execution_count": null,
      "outputs": [
        {
          "name": "stdout",
          "output_type": "stream",
          "text": [
            "/content/drive/.shortcut-targets-by-id/1jVtyGeVkD0wuaIwqQ0-8rkJz8KDKIeOk/ES_FaceMatch_Dataset\n"
          ]
        }
      ]
    },
    {
      "cell_type": "code",
      "metadata": {
        "id": "-gRUcSMt_oZa",
        "outputId": "74b3b0a5-aa02-4e41-e6fb-1c1ca9b6b602",
        "colab": {
          "base_uri": "https://localhost:8080/"
        }
      },
      "source": [
        "!ls"
      ],
      "execution_count": 20,
      "outputs": [
        {
          "output_type": "stream",
          "name": "stdout",
          "text": [
            "shell-init: error retrieving current directory: getcwd: cannot access parent directories: No such file or directory\n",
            "dataset_images\ttest.csv  train.csv\n"
          ]
        }
      ]
    },
    {
      "cell_type": "markdown",
      "metadata": {
        "id": "-LTlM9G0_rku"
      },
      "source": [
        "## Importing the required library"
      ]
    },
    {
      "cell_type": "code",
      "metadata": {
        "id": "8iKE5RTvNccG"
      },
      "source": [
        "import insightface\n",
        "from insightface.app import FaceAnalysis\n",
        "import cv2\n",
        "import numpy as np\n",
        "import pandas as pd\n",
        "from matplotlib import pyplot as plt\n",
        "from time import time\n",
        "import os, shutil\n",
        "import pickle\n",
        "import mxnet as mx \n",
        "from google.colab.patches import cv2_imshow\n",
        "from PIL import Image"
      ],
      "execution_count": null,
      "outputs": []
    },
    {
      "cell_type": "code",
      "metadata": {
        "id": "hkEw1zUBNf6O"
      },
      "source": [
        "class FaceRecognizer():\n",
        "  def __init__(self):\n",
        "    \"\"\"\n",
        "      Constructor method that loads the insightface arcface pretrained model to calculate face embeddings\n",
        "\n",
        "      Params: None\n",
        "\n",
        "      Returns: Nothing\n",
        "    \"\"\"\n",
        "    self.model = FaceAnalysis()\n",
        "    self.model.prepare(ctx_id=0) \n",
        "    #mx.gpu(0).empty_cache()\n",
        "\n",
        "\n",
        "  def get_threshold(self, train_csv_path, img_folder):\n",
        "    \"\"\"\n",
        "    A method that is employed to check the cosine score for matching faces as well as non-matching faces in order to analyse cosine score distribution\n",
        "\n",
        "    params:\n",
        "      train_csv_path: Path to the training csv file (i.e. train.csv)\n",
        "      img_folder: Path to the folder containing images (i.e. dataset_images)\n",
        "\n",
        "    Returns: 1-D Numpy array of the cosine scores of matching faces and non-matching faces respectively\n",
        "    \"\"\"\n",
        "\n",
        "    train_csv = pd.read_csv(train_csv_path)\n",
        "\n",
        "    threshold = 0\n",
        "    matching_faces = 0\n",
        "\n",
        "    matching_emb = []\n",
        "    unmatching_emb = []\n",
        "\n",
        "    for i in range(5000):\n",
        "\n",
        "      im1 = cv2.imread(img_folder + train_csv['image1'][i]) \n",
        "      im2 = cv2.imread(img_folder + train_csv['image2'][i])\n",
        "\n",
        "      face1 = self.model.get(im1)\n",
        "      face2 = self.model.get(im2)\n",
        "\n",
        "      if train_csv['label'][i] == 1:\n",
        "      \n",
        "        if len(face1) != 0 and len(face2) != 0:\n",
        "          matching_emb.append(np.inner(face1[0].normed_embedding, face2[0].normed_embedding))\n",
        "\n",
        "      else:\n",
        "        \n",
        "        if len(face1) != 0 and len(face2) != 0:\n",
        "          unmatching_emb.append(np.inner(face1[0].normed_embedding, face2[0].normed_embedding))\n",
        "\n",
        "      \n",
        "    matching_emb = np.asarray(matching_emb)\n",
        "    unmatching_emb = np.asarray(unmatching_emb)\n",
        "\n",
        "    return matching_emb, unmatching_emb\n",
        "\n",
        "  def analyse(self, train_csv_path, img_folder):\n",
        "    \"\"\"\"\n",
        "    Prints the minimum, maximum and average cosine score for matching as well non-matching faces\n",
        "\n",
        "    params:\n",
        "      train_csv_path: Path to the training csv file (i.e. train.csv)\n",
        "      img_folder: Path to the folder containing images (i.e. dataset_images)\n",
        "\n",
        "    Returns: 1-D Numpy array of the cosine scores of matching faces and non-matching faces respectively\n",
        "    \"\"\"\n",
        "\n",
        "    emb_mul_list = []\n",
        "    matching_emb, unmatching_emb = self.get_threshold(train_csv_path, img_folder) \n",
        "    print('For matching embeddings: ')\n",
        "    print('Max: {} | Min: {} | Avg: {}'.format(np.max(matching_emb), np.min(matching_emb), np.mean(matching_emb)))\n",
        "    print('-'*25)\n",
        "    print('For not matching embeddings: ')\n",
        "    print('Max: {} | Min: {} | Avg: {}'.format(np.max(unmatching_emb), np.min(unmatching_emb), np.mean(unmatching_emb)))  \n",
        "    return matching_emb, unmatching_emb "
      ],
      "execution_count": null,
      "outputs": []
    },
    {
      "cell_type": "markdown",
      "metadata": {
        "id": "25fRiF9-DPRa"
      },
      "source": [
        "## Initializing the instance of the FaceRecognizer class"
      ]
    },
    {
      "cell_type": "code",
      "metadata": {
        "colab": {
          "base_uri": "https://localhost:8080/"
        },
        "id": "jeQdeshjPkJ7",
        "outputId": "91dafe18-8593-4dec-d8f4-69e5a94897d9"
      },
      "source": [
        "app = FaceRecognizer()\n",
        "\n",
        "# l: embedding cosine score for matching faces\n",
        "# m: embedding cosine score for non-matching faces\n",
        "l, m = app.analyse('train.csv', 'dataset_images/')                                             "
      ],
      "execution_count": null,
      "outputs": [
        {
          "name": "stdout",
          "output_type": "stream",
          "text": [
            "Applied providers: ['CPUExecutionProvider'], with options: {'CPUExecutionProvider': {}}\n",
            "find model: /root/.insightface/models/buffalo_l/1k3d68.onnx landmark_3d_68 ['None', 3, 192, 192] 0.0 1.0\n",
            "Applied providers: ['CPUExecutionProvider'], with options: {'CPUExecutionProvider': {}}\n",
            "find model: /root/.insightface/models/buffalo_l/2d106det.onnx landmark_2d_106 ['None', 3, 192, 192] 0.0 1.0\n",
            "Applied providers: ['CPUExecutionProvider'], with options: {'CPUExecutionProvider': {}}\n",
            "find model: /root/.insightface/models/buffalo_l/det_10g.onnx detection [1, 3, '?', '?'] 127.5 128.0\n",
            "Applied providers: ['CPUExecutionProvider'], with options: {'CPUExecutionProvider': {}}\n",
            "find model: /root/.insightface/models/buffalo_l/genderage.onnx genderage ['None', 3, 96, 96] 0.0 1.0\n",
            "Applied providers: ['CPUExecutionProvider'], with options: {'CPUExecutionProvider': {}}\n",
            "find model: /root/.insightface/models/buffalo_l/w600k_r50.onnx recognition ['None', 3, 112, 112] 127.5 127.5\n",
            "set det-size: (640, 640)\n",
            "For matching embeddings: \n",
            "Max: 0.8004854321479797 | Min: -0.034294914454221725 | Avg: 0.46671390533447266\n",
            "-------------------------\n",
            "For not matching embeddings: \n",
            "Max: 0.3817419409751892 | Min: -0.19673213362693787 | Avg: 0.020499296486377716\n"
          ]
        }
      ]
    },
    {
      "cell_type": "markdown",
      "metadata": {
        "id": "63S-Ldj9FG36"
      },
      "source": [
        "# Observation:\n",
        "\n",
        "\n",
        "## Here are cosine scores:\n",
        "\n",
        "### -> For matching face embeddings: \n",
        "\n",
        "##### Max: 0.8004854321479797 | Min: -0.034294914454221725 | Avg: 0.46671390533447266\n",
        "\n",
        "### -> For non-matching face embeddings: \n",
        "\n",
        "##### Max: 0.3817419409751892 | Min: -0.19673213362693787 | Avg: 0.020499296486377716"
      ]
    },
    {
      "cell_type": "code",
      "metadata": {
        "id": "_bHUQ-KOP-o2"
      },
      "source": [
        "matching_scores, unmatching_scores = l, m"
      ],
      "execution_count": null,
      "outputs": []
    },
    {
      "cell_type": "code",
      "metadata": {
        "id": "QTxei4awGq2z"
      },
      "source": [
        "match_scores, unmatch_scores = np.asarray(matching_scores), np.asarray(unmatching_scores)"
      ],
      "execution_count": null,
      "outputs": []
    },
    {
      "cell_type": "markdown",
      "metadata": {
        "id": "pfuUo8uQDjGd"
      },
      "source": [
        "## Histogram of the cosine scores of matching embeddings "
      ]
    },
    {
      "cell_type": "code",
      "metadata": {
        "colab": {
          "base_uri": "https://localhost:8080/",
          "height": 602
        },
        "id": "xnOiw-tnDZuw",
        "outputId": "2dce8625-f288-43e4-de16-49d80719be29"
      },
      "source": [
        "fig, axs = plt.subplots(1, 1,\n",
        "                        figsize =(10, 7),\n",
        "                        tight_layout = True)\n",
        " \n",
        "axs.hist(matching_scores, bins = 10)"
      ],
      "execution_count": null,
      "outputs": [
        {
          "data": {
            "text/plain": [
              "(array([  6.,   9.,  43.,  85., 199., 339., 329., 256., 117.,  17.]),\n",
              " array([-0.03429491,  0.04918312,  0.13266115,  0.21613918,  0.29961723,\n",
              "         0.38309526,  0.4665733 ,  0.55005133,  0.63352937,  0.7170074 ,\n",
              "         0.80048543], dtype=float32),\n",
              " <a list of 10 Patch objects>)"
            ]
          },
          "execution_count": 18,
          "metadata": {},
          "output_type": "execute_result"
        },
        {
          "data": {
            "image/png": "[encoded data removed]",
            "text/plain": [
              "<Figure size 720x504 with 1 Axes>"
            ]
          },
          "metadata": {},
          "output_type": "display_data"
        }
      ]
    },
    {
      "cell_type": "markdown",
      "metadata": {
        "id": "_7l43tqTERcS"
      },
      "source": [
        "## Histogram of the cosine scores of non-matching embeddings "
      ]
    },
    {
      "cell_type": "code",
      "metadata": {
        "colab": {
          "base_uri": "https://localhost:8080/",
          "height": 602
        },
        "id": "5SCyTF9-FXsg",
        "outputId": "022e210e-3c23-4a45-d067-523bc5a51e26"
      },
      "source": [
        "fig, axs = plt.subplots(1, 1,\n",
        "                        figsize =(10, 7),\n",
        "                        tight_layout = True)\n",
        " \n",
        "axs.hist(unmatching_scores, bins = 10)"
      ],
      "execution_count": null,
      "outputs": [
        {
          "data": {
            "text/plain": [
              "(array([ 21., 155., 497., 766., 539., 280.,  84.,  22.,   6.,   3.]),\n",
              " array([-0.19673213, -0.13888472, -0.08103732, -0.02318991,  0.0346575 ,\n",
              "         0.0925049 ,  0.15035231,  0.20819972,  0.26604712,  0.32389453,\n",
              "         0.38174194], dtype=float32),\n",
              " <a list of 10 Patch objects>)"
            ]
          },
          "execution_count": 19,
          "metadata": {},
          "output_type": "execute_result"
        },
        {
          "data": {
            "image/png": "[encoded data removed]",
            "text/plain": [
              "<Figure size 720x504 with 1 Axes>"
            ]
          },
          "metadata": {},
          "output_type": "display_data"
        }
      ]
    },
    {
      "cell_type": "markdown",
      "metadata": {
        "id": "wZnW61ydEUy9"
      },
      "source": [
        "## Analysis and conclusion:\n",
        "\n",
        "#### From the histogram plot we come to the conclusion that for given faces distribution optimal differentiating cosine score lies somewhere close to 0.2 \n",
        "\n",
        "#### Hence we choose 0.2 as a threshold to differentiate between the matching and non-matching faces\n",
        "\n",
        "If threshold >= 0.2 --> face is mathcing\n",
        "else --> face is not matching"
      ]
    },
    {
      "cell_type": "code",
      "metadata": {
        "id": "twNGzRu-LaHO"
      },
      "source": [
        "class FaceMatch():\n",
        "  def __init__(self):\n",
        "    \"\"\"\n",
        "      Constructor method that loads the insightface arcface pretrained model to calculate face embeddings\n",
        "\n",
        "      Params: None\n",
        "\n",
        "      Returns: Nothing\n",
        "    \"\"\"\n",
        "    self.model = FaceAnalysis()\n",
        "    self.model.prepare(ctx_id=0) \n",
        "    #mx.gpu(0).empty_cache()\n",
        "\n",
        "\n",
        "  def predict(self, test_csv_path, img_folder, threshold = 0.2):\n",
        "    \"\"\"\n",
        "    Method which calculates cosine score for face embeddings with arcface and predicts the label for test images if the faces are matching or not\n",
        "\n",
        "    Params: \n",
        "      test_csv_path : Path for test csv file (i.e. test.csv)\n",
        "      img_folder : Path for folder containing images (i.e. dataset_images/)\n",
        "\n",
        "    Returns: pandas dataframe with label prediction for test.csv\n",
        "    \"\"\"\n",
        "\n",
        "    test_csv = pd.read_csv(test_csv_path)\n",
        "\n",
        "    label = [] \n",
        "\n",
        "    for i in range(len(test_csv)):\n",
        "\n",
        "      im1 = cv2.imread(img_folder + test_csv['image1'][i]) \n",
        "      im2 = cv2.imread(img_folder + test_csv['image2'][i])\n",
        "\n",
        "      face1 = self.model.get(im1)\n",
        "      face2 = self.model.get(im2)\n",
        "\n",
        "      if len(face1) != 0 and len(face2) != 0:\n",
        "        cosine_dist = np.inner(face1[0].normed_embedding, face2[0].normed_embedding)\n",
        "\n",
        "        if cosine_dist > threshold:\n",
        "          label.append(1)\n",
        "        else:\n",
        "          label.append(0)\n",
        "\n",
        "      else:\n",
        "        label.append(0)      \n",
        "\n",
        "\n",
        "    test_csv['label_pred'] = label \n",
        "\n",
        "    return test_csv         "
      ],
      "execution_count": null,
      "outputs": []
    },
    {
      "cell_type": "markdown",
      "metadata": {
        "id": "4WCPTCeCHFjI"
      },
      "source": [
        "### Instanciating the FaceMatch class and getting predictions for test.csv"
      ]
    },
    {
      "cell_type": "code",
      "metadata": {
        "colab": {
          "base_uri": "https://localhost:8080/"
        },
        "id": "jpVW3JOLSgm7",
        "outputId": "d34523db-b3d3-4c5d-e34f-cd49a5265ad6"
      },
      "source": [
        "app = FaceMatch()\n",
        "test_results = app.predict('test.csv', 'dataset_images/')   "
      ],
      "execution_count": 7,
      "outputs": [
        {
          "metadata": {
            "tags": null
          },
          "name": "stdout",
          "output_type": "stream",
          "text": [
            "download_path: /root/.insightface/models/buffalo_l\n",
            "Downloading /root/.insightface/models/buffalo_l.zip from http://storage.insightface.ai/files/models/buffalo_l.zip...\n"
          ]
        },
        {
          "metadata": {
            "tags": null
          },
          "name": "stderr",
          "output_type": "stream",
          "text": [
            "100%|██████████| 281857/281857 [00:06<00:00, 46967.47KB/s]\n"
          ]
        },
        {
          "metadata": {
            "tags": null
          },
          "name": "stdout",
          "output_type": "stream",
          "text": [
            "Applied providers: ['CPUExecutionProvider'], with options: {'CPUExecutionProvider': {}}\n",
            "find model: /root/.insightface/models/buffalo_l/1k3d68.onnx landmark_3d_68 ['None', 3, 192, 192] 0.0 1.0\n",
            "Applied providers: ['CPUExecutionProvider'], with options: {'CPUExecutionProvider': {}}\n",
            "find model: /root/.insightface/models/buffalo_l/2d106det.onnx landmark_2d_106 ['None', 3, 192, 192] 0.0 1.0\n",
            "Applied providers: ['CPUExecutionProvider'], with options: {'CPUExecutionProvider': {}}\n",
            "find model: /root/.insightface/models/buffalo_l/det_10g.onnx detection [1, 3, '?', '?'] 127.5 128.0\n",
            "Applied providers: ['CPUExecutionProvider'], with options: {'CPUExecutionProvider': {}}\n",
            "find model: /root/.insightface/models/buffalo_l/genderage.onnx genderage ['None', 3, 96, 96] 0.0 1.0\n",
            "Applied providers: ['CPUExecutionProvider'], with options: {'CPUExecutionProvider': {}}\n",
            "find model: /root/.insightface/models/buffalo_l/w600k_r50.onnx recognition ['None', 3, 112, 112] 127.5 127.5\n",
            "set det-size: (640, 640)\n"
          ]
        }
      ]
    },
    {
      "cell_type": "code",
      "metadata": {
        "id": "G6UPIjoSP_dG"
      },
      "source": [
        "# Saving the dataframe as a csv to the folder\n",
        "test_results.to_csv('/content/drive/My Drive/AI_hackthon/test_pred.csv', encoding='utf-8', index=False)"
      ],
      "execution_count": 17,
      "outputs": []
    }
  ]
}